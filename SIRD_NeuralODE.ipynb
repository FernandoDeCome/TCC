{
 "cells": [
  {
   "cell_type": "code",
   "execution_count": 33,
   "metadata": {},
   "outputs": [],
   "source": [
    "import time\n",
    "\n",
    "import matplotlib.pyplot as plt\n",
    "import matplotlib.style as style\n",
    "style.use('ggplot')\n",
    "\n",
    "import tensorflow as tf\n",
    "from tfdiffeq import odeint\n",
    "from tfdiffeq import plot_results\n",
    "\n",
    "NUM_SAMPLES = 1000\n",
    "device = 'cpu:0'\n",
    "\n",
    "# Force Float 64\n",
    "tf.keras.backend.set_floatx('float64')"
   ]
  },
  {
   "cell_type": "code",
   "execution_count": 34,
   "metadata": {},
   "outputs": [],
   "source": [
    "class SIRD(tf.keras.Model):\n",
    "  \n",
    "  def __init__(self, beta, gama, mi, **kwargs):\n",
    "    super().__init__(**kwargs)\n",
    "    \n",
    "    self.beta, self.gama, self.mi = beta, gama, mi\n",
    "  \n",
    "  @tf.function\n",
    "  def call(self, t, y):\n",
    "    # y = [S, I, R, D]\n",
    "    S, I, R, D = tf.unstack(y)\n",
    "    \n",
    "    dS_dt = - self.beta*I*S \n",
    "    dI_dt = self.beta*I*S - self.gama*I - self.mi*I\n",
    "    dR_dt = self.gama*I\n",
    "    dD_dt = self.mi*I\n",
    "   \n",
    "    \n",
    "    return tf.stack([dS_dt, dI_dt, dR_dt, dD_dt])"
   ]
  },
  {
   "cell_type": "code",
   "execution_count": 35,
   "metadata": {},
   "outputs": [],
   "source": [
    "t = tf.linspace(0., 10., num=NUM_SAMPLES)\n",
    "initial_states = tf.convert_to_tensor([1, 1e-4, 0, 0], dtype=tf.float64)\n",
    "\n",
    "beta = 2.8\n",
    "gama = 0.5\n",
    "mi = 0.05"
   ]
  },
  {
   "cell_type": "code",
   "execution_count": 36,
   "metadata": {},
   "outputs": [
    {
     "name": "stdout",
     "output_type": "stream",
     "text": [
      "Finished integrating ! Result shape :  (1000, 4)\n"
     ]
    }
   ],
   "source": [
    "with tf.device(device):\n",
    "  result = odeint(SIRD(beta, gama, mi), initial_states, t)\n",
    "  \n",
    "print(\"Finished integrating ! Result shape : \", result.shape)"
   ]
  },
  {
   "cell_type": "code",
   "execution_count": 37,
   "metadata": {},
   "outputs": [
    {
     "data": {
      "text/plain": [
       "Text(0, 0.5, 'Pop Fraction')"
      ]
     },
     "execution_count": 37,
     "metadata": {},
     "output_type": "execute_result"
    },
    {
     "data": {
      "image/png": "[encoded data removed]",
      "text/plain": [
       "<Figure size 460.8x316.8 with 1 Axes>"
      ]
     },
     "metadata": {},
     "output_type": "display_data"
    }
   ],
   "source": [
    "plot_results(t, result, labels=['S', 'I', 'R', 'D'])\n",
    "plt.xlabel('t')\n",
    "plt.ylabel('Pop Fraction')"
   ]
  },
  {
   "cell_type": "code",
   "execution_count": 38,
   "metadata": {},
   "outputs": [],
   "source": [
    "class SIRDTrainable(tf.keras.Model):\n",
    "  \n",
    "  def __init__(self, beta, gama, mi, **kwargs):\n",
    "    super().__init__(**kwargs)\n",
    "    \n",
    "    #Retire some parameters to allow training\n",
    "    self.beta = beta\n",
    "    self.gama = gama\n",
    "    self.mi = mi\n",
    "    \n",
    "    self.eqn = tf.keras.Sequential([\n",
    "             tf.keras.layers.Dense(32, activation=tf.nn.swish, input_shape=(4,)),\n",
    "             tf.keras.layers.Dense(32, activation=tf.nn.swish,),\n",
    "             tf.keras.layers.Dense(32, activation=tf.nn.swish),\n",
    "             tf.keras.layers.Dense(4, activation='relu',)   \n",
    "    ])\n",
    "  \n",
    "  @tf.function\n",
    "  def call(self, t, y):\n",
    "    # y = [S, I, R ,D]\n",
    "    S, I, R, D = tf.unstack(y)\n",
    "\n",
    "    # Neural ODE component\n",
    "    n_out = self.eqn(tf.reshape(y, [1, 4]))  # [1, 4] -> [1, 4]\n",
    "    \n",
    "    pred1 = n_out[0, 0]\n",
    "    pred2 = n_out[0, 1]\n",
    "    pred3 = n_out[0, 2]\n",
    "    pred4 = n_out[0, 3]\n",
    "    \n",
    "    \n",
    "    dS_dt = - self.beta*I*S + pred1 #pred1 = 0\n",
    "    dI_dt = self.beta*I*S - self.gama*I - pred2 #pred2 = mi*I\n",
    "    dR_dt = self.gama*I + pred3 #pred3 = 0 \n",
    "    dD_dt = self.mi*I + pred4  #pred4 = gama*S\n",
    "    \n",
    "    return tf.stack([dS_dt, dI_dt, dR_dt, dD_dt])"
   ]
  },
  {
   "cell_type": "code",
   "execution_count": 39,
   "metadata": {},
   "outputs": [],
   "source": [
    "t_train = tf.linspace(0., 10, num=50)  # Train for just 2 seconds of input\n",
    "initial_states_train = tf.convert_to_tensor([1, 1e-4, 0, 0], dtype=tf.float64)\n",
    "\n",
    "beta = 2.8\n",
    "gama = 0.5\n",
    "mi = 0.05\n",
    "\n",
    "epochs = 100\n",
    "initial_learning_rate = 0.01\n",
    "decay_steps = 100\n",
    "decay_rate = 0.5"
   ]
  },
  {
   "cell_type": "code",
   "execution_count": 40,
   "metadata": {},
   "outputs": [],
   "source": [
    "from tensorflow.keras import backend as K\n",
    "K.clear_session()"
   ]
  },
  {
   "cell_type": "code",
   "execution_count": 41,
   "metadata": {},
   "outputs": [
    {
     "name": "stdout",
     "output_type": "stream",
     "text": [
      "Computing ground truth...\n",
      "Ground truth shape : (50, 4)\n",
      "Epoch 1\n",
      "Loss : 0.0019057359334020837\n",
      "LR : 0.0099309245\n",
      "\n",
      "Epoch 2\n",
      "Loss : 0.0006474687913782294\n",
      "LR : 0.009862327\n",
      "\n",
      "Epoch 3\n",
      "Loss : 0.0006356734703547269\n",
      "LR : 0.009794203\n",
      "\n",
      "Epoch 4\n",
      "Loss : 0.0007001669411977733\n",
      "LR : 0.0097265495\n",
      "\n",
      "Epoch 5\n",
      "Loss : 0.0007004026490691118\n",
      "LR : 0.009659363\n",
      "\n",
      "Epoch 6\n",
      "Loss : 0.0007004006933075839\n",
      "LR : 0.009592641\n",
      "\n",
      "Epoch 7\n",
      "Loss : 0.0007003985840408102\n",
      "LR : 0.009526379\n",
      "\n",
      "Epoch 8\n",
      "Loss : 0.0007003964059703337\n",
      "LR : 0.009460577\n",
      "\n",
      "Epoch 9\n",
      "Loss : 0.0007003942120517012\n",
      "LR : 0.009395227\n",
      "\n",
      "Epoch 10\n",
      "Loss : 0.0007003920358940382\n",
      "LR : 0.0093303295\n",
      "\n",
      "Epoch 11\n",
      "Loss : 0.0007003898987315972\n",
      "LR : 0.00926588\n",
      "\n",
      "Epoch 12\n",
      "Loss : 0.0007003878136179758\n",
      "LR : 0.009201876\n",
      "\n",
      "Epoch 13\n",
      "Loss : 0.0007003857880833416\n",
      "LR : 0.009138315\n",
      "\n",
      "Epoch 14\n",
      "Loss : 0.0007003838258805389\n",
      "LR : 0.009075192\n",
      "\n",
      "Epoch 15\n",
      "Loss : 0.0007003819281668688\n",
      "LR : 0.0090125045\n",
      "\n",
      "Epoch 16\n",
      "Loss : 0.0007003800943226166\n",
      "LR : 0.00895025\n",
      "\n",
      "Epoch 17\n",
      "Loss : 0.0007003783225254767\n",
      "LR : 0.008888427\n",
      "\n",
      "Epoch 18\n",
      "Loss : 0.0007003766101601662\n",
      "LR : 0.00882703\n",
      "\n",
      "Epoch 19\n",
      "Loss : 0.0007003749541119809\n",
      "LR : 0.008766057\n",
      "\n",
      "Epoch 20\n",
      "Loss : 0.0007003733509791476\n",
      "LR : 0.008705505\n",
      "\n",
      "Epoch 21\n",
      "Loss : 0.0007003717972243568\n",
      "LR : 0.008645372\n",
      "\n",
      "Epoch 22\n",
      "Loss : 0.0007003702892846525\n",
      "LR : 0.008585654\n",
      "\n",
      "Epoch 23\n",
      "Loss : 0.0007003688236487811\n",
      "LR : 0.0085263485\n",
      "\n",
      "Epoch 24\n",
      "Loss : 0.0007003673969118589\n",
      "LR : 0.008467453\n",
      "\n",
      "Epoch 25\n",
      "Loss : 0.0007003660058117643\n",
      "LR : 0.008408964\n",
      "\n",
      "Epoch 26\n",
      "Loss : 0.0007003646472531301\n",
      "LR : 0.008350879\n",
      "\n",
      "Epoch 27\n",
      "Loss : 0.0007003633183215106\n",
      "LR : 0.008293196\n",
      "\n",
      "Epoch 28\n",
      "Loss : 0.0007003620162904565\n",
      "LR : 0.00823591\n",
      "\n",
      "Epoch 29\n",
      "Loss : 0.0007003607386232202\n",
      "LR : 0.008179021\n",
      "\n",
      "Epoch 30\n",
      "Loss : 0.0007003594829708273\n",
      "LR : 0.008122524\n",
      "\n",
      "Epoch 31\n",
      "Loss : 0.0007003582471667548\n",
      "LR : 0.008066418\n",
      "\n",
      "Epoch 32\n",
      "Loss : 0.0007003570292207223\n",
      "LR : 0.0080106985\n",
      "\n",
      "Epoch 33\n",
      "Loss : 0.0007003558273101135\n",
      "LR : 0.007955364\n",
      "\n",
      "Epoch 34\n",
      "Loss : 0.0007003546397712342\n",
      "LR : 0.007900413\n",
      "\n",
      "Epoch 35\n",
      "Loss : 0.000700353465089905\n",
      "LR : 0.00784584\n",
      "\n",
      "Epoch 36\n",
      "Loss : 0.0007003523018916469\n",
      "LR : 0.0077916454\n",
      "\n",
      "Epoch 37\n",
      "Loss : 0.0007003511489328214\n",
      "LR : 0.0077378247\n",
      "\n",
      "Epoch 38\n",
      "Loss : 0.0007003500050905188\n",
      "LR : 0.0076843756\n",
      "\n",
      "Epoch 39\n",
      "Loss : 0.0007003488693539548\n",
      "LR : 0.007631296\n",
      "\n",
      "Epoch 40\n",
      "Loss : 0.0007003477408156449\n",
      "LR : 0.0075785825\n",
      "\n",
      "Epoch 41\n",
      "Loss : 0.0007003466186631035\n",
      "LR : 0.007526234\n",
      "\n",
      "Epoch 42\n",
      "Loss : 0.0007003455021710658\n",
      "LR : 0.007474246\n",
      "\n",
      "Epoch 43\n",
      "Loss : 0.0007003443906939521\n",
      "LR : 0.0074226176\n",
      "\n",
      "Epoch 44\n",
      "Loss : 0.0007003432836593148\n",
      "LR : 0.007371346\n",
      "\n",
      "Epoch 45\n",
      "Loss : 0.000700342180560994\n",
      "LR : 0.0073204283\n",
      "\n",
      "Epoch 46\n",
      "Loss : 0.0007003410809533792\n",
      "LR : 0.007269862\n",
      "\n",
      "Epoch 47\n",
      "Loss : 0.0007003399844458452\n",
      "LR : 0.0072196457\n",
      "\n",
      "Epoch 48\n",
      "Loss : 0.0007003388906975952\n",
      "LR : 0.0071697766\n",
      "\n",
      "Epoch 49\n",
      "Loss : 0.000700337799412829\n",
      "LR : 0.0071202507\n",
      "\n",
      "Epoch 50\n",
      "Loss : 0.0007003367103365076\n",
      "LR : 0.0070710676\n",
      "\n",
      "Epoch 51\n",
      "Loss : 0.0007003356232506148\n",
      "LR : 0.0070222244\n",
      "\n",
      "Epoch 52\n",
      "Loss : 0.0007003345379699883\n",
      "LR : 0.0069737183\n",
      "\n",
      "Epoch 53\n",
      "Loss : 0.0007003334543392691\n",
      "LR : 0.0069255475\n",
      "\n",
      "Epoch 54\n",
      "Loss : 0.000700332372229897\n",
      "LR : 0.0068777087\n",
      "\n",
      "Epoch 55\n",
      "Loss : 0.000700331291537173\n",
      "LR : 0.006830201\n",
      "\n",
      "Epoch 56\n",
      "Loss : 0.0007003302121779311\n",
      "LR : 0.0067830216\n",
      "\n",
      "Epoch 57\n",
      "Loss : 0.0007003291340878704\n",
      "LR : 0.0067361677\n",
      "\n",
      "Epoch 58\n",
      "Loss : 0.0007003280572197633\n",
      "LR : 0.006689638\n",
      "\n",
      "Epoch 59\n",
      "Loss : 0.000700326981541541\n",
      "LR : 0.0066434294\n",
      "\n",
      "Epoch 60\n",
      "Loss : 0.0007003259070343581\n",
      "LR : 0.006597539\n",
      "\n",
      "Epoch 61\n",
      "Loss : 0.0007003248336912445\n",
      "LR : 0.0065519665\n",
      "\n",
      "Epoch 62\n",
      "Loss : 0.0007003237615157856\n",
      "LR : 0.0065067094\n",
      "\n",
      "Epoch 63\n",
      "Loss : 0.0007003226905203033\n",
      "LR : 0.0064617638\n",
      "\n",
      "Epoch 64\n",
      "Loss : 0.0007003216207251946\n",
      "LR : 0.0064171297\n",
      "\n",
      "Epoch 65\n",
      "Loss : 0.000700320552158007\n",
      "LR : 0.0063728034\n",
      "\n",
      "Epoch 66\n",
      "Loss : 0.0007003194848518917\n",
      "LR : 0.006328783\n",
      "\n",
      "Epoch 67\n",
      "Loss : 0.0007003184188454276\n",
      "LR : 0.0062850663\n",
      "\n",
      "Epoch 68\n",
      "Loss : 0.0007003173541815261\n",
      "LR : 0.0062416526\n",
      "\n",
      "Epoch 69\n",
      "Loss : 0.0007003162909068307\n",
      "LR : 0.0061985385\n",
      "\n",
      "Epoch 70\n",
      "Loss : 0.0007003152290708113\n",
      "LR : 0.006155722\n",
      "\n",
      "Epoch 71\n",
      "Loss : 0.0007003141687257669\n",
      "LR : 0.0061132014\n",
      "\n",
      "Epoch 72\n",
      "Loss : 0.0007003131099260447\n",
      "LR : 0.0060709743\n",
      "\n",
      "Epoch 73\n",
      "Loss : 0.0007003120527275001\n",
      "LR : 0.0060290387\n",
      "\n",
      "Epoch 74\n",
      "Loss : 0.000700310997187378\n",
      "LR : 0.005987393\n",
      "\n",
      "Epoch 75\n",
      "Loss : 0.0007003099433637892\n",
      "LR : 0.005946035\n",
      "\n",
      "Epoch 76\n",
      "Loss : 0.0007003088913153664\n",
      "LR : 0.0059049637\n",
      "\n",
      "Epoch 77\n",
      "Loss : 0.0007003078411012069\n",
      "LR : 0.005864175\n",
      "\n",
      "Epoch 78\n",
      "Loss : 0.0007003067927802237\n",
      "LR : 0.005823668\n",
      "\n",
      "Epoch 79\n",
      "Loss : 0.0007003057464116385\n",
      "LR : 0.005783441\n",
      "\n",
      "Epoch 80\n",
      "Loss : 0.0007003047020541632\n",
      "LR : 0.0057434915\n",
      "\n",
      "Epoch 81\n",
      "Loss : 0.0007003036597660817\n",
      "LR : 0.0057038185\n",
      "\n",
      "Epoch 82\n",
      "Loss : 0.0007003026196051272\n",
      "LR : 0.0056644194\n",
      "\n",
      "Epoch 83\n",
      "Loss : 0.0007003015816281427\n",
      "LR : 0.0056252927\n",
      "\n",
      "Epoch 84\n",
      "Loss : 0.0007003005458913231\n",
      "LR : 0.0055864356\n",
      "\n",
      "Epoch 85\n",
      "Loss : 0.000700299512449844\n",
      "LR : 0.005547847\n",
      "\n",
      "Epoch 86\n",
      "Loss : 0.000700298481358081\n",
      "LR : 0.0055095255\n",
      "\n",
      "Epoch 87\n",
      "Loss : 0.0007002974526691923\n",
      "LR : 0.0054714684\n",
      "\n",
      "Epoch 88\n",
      "Loss : 0.0007002964264351962\n",
      "LR : 0.0054336744\n",
      "\n",
      "Epoch 89\n",
      "Loss : 0.0007002954027070869\n",
      "LR : 0.005396141\n",
      "\n",
      "Epoch 90\n",
      "Loss : 0.0007002943815345788\n",
      "LR : 0.0053588673\n",
      "\n",
      "Epoch 91\n",
      "Loss : 0.0007002933629662759\n",
      "LR : 0.0053218505\n",
      "\n",
      "Epoch 92\n",
      "Loss : 0.000700292347049454\n",
      "LR : 0.0052850903\n",
      "\n",
      "Epoch 93\n",
      "Loss : 0.0007002913338302775\n",
      "LR : 0.0052485834\n",
      "\n",
      "Epoch 94\n",
      "Loss : 0.0007002903233533479\n",
      "LR : 0.005212329\n",
      "\n",
      "Epoch 95\n",
      "Loss : 0.000700289315662332\n",
      "LR : 0.005176325\n",
      "\n",
      "Epoch 96\n",
      "Loss : 0.0007002883107994247\n",
      "LR : 0.005140569\n",
      "\n",
      "Epoch 97\n",
      "Loss : 0.0007002873088056207\n",
      "LR : 0.00510506\n",
      "\n",
      "Epoch 98\n",
      "Loss : 0.000700286309720729\n",
      "LR : 0.005069797\n",
      "\n",
      "Epoch 99\n",
      "Loss : 0.0007002853135832694\n",
      "LR : 0.0050347773\n",
      "\n",
      "Epoch 100\n",
      "Loss : 0.0007002843204303591\n",
      "LR : 0.005\n",
      "\n",
      "Time elapsed: 41.353281 s\n"
     ]
    }
   ],
   "source": [
    "start = time.time()\n",
    "with tf.device(device):\n",
    "  model = SIRDTrainable(beta, gama, mi)\n",
    "\n",
    "  learning_rate = tf.keras.optimizers.schedules.ExponentialDecay(\n",
    "    initial_learning_rate, decay_steps, decay_rate, staircase=False,\n",
    "  )\n",
    "\n",
    "  optimizer = tf.keras.optimizers.Adam(learning_rate)\n",
    "\n",
    "  print(\"Computing ground truth...\")\n",
    "  y_real = odeint(SIRD(beta, gama, mi), initial_states_train, t_train)\n",
    "\n",
    "  print(\"Ground truth shape :\", y_real.shape)\n",
    "\n",
    "  for epoch in range(epochs):\n",
    "    print(f\"Epoch {epoch + 1}\")\n",
    "\n",
    "    with tf.GradientTape() as tape:\n",
    "      preds = odeint(model, initial_states_train, t_train, rtol = 1e-3)\n",
    "      loss = tf.reduce_mean(tf.square(y_real - preds), axis=1)\n",
    "\n",
    "    grads = tape.gradient(loss, model.trainable_variables)\n",
    "    optimizer.apply_gradients(zip(grads, model.trainable_variables))\n",
    "\n",
    "    print(\"Loss :\", loss.numpy().mean())\n",
    "    print(\"LR :\", learning_rate(optimizer.iterations).numpy())\n",
    "    print()\n",
    "end = time.time()\n",
    "time_elapsed = end-start\n",
    "print(\"Time elapsed: %f s\" % time_elapsed)"
   ]
  },
  {
   "cell_type": "code",
   "execution_count": 40,
   "metadata": {},
   "outputs": [],
   "source": [
    "from tfdiffeq.bfgs_optimizer import BFGSOptimizer"
   ]
  },
  {
   "cell_type": "code",
   "execution_count": 41,
   "metadata": {},
   "outputs": [],
   "source": [
    "tolerance = 1e-4\n",
    "bfgs_optimizer = BFGSOptimizer(max_iterations=50, tolerance=tolerance)"
   ]
  },
  {
   "cell_type": "code",
   "execution_count": 42,
   "metadata": {},
   "outputs": [],
   "source": [
    "from tfdiffeq.adjoint import odeint as adjoint_odeint\n",
    "\n",
    "def loss_wrapper(model):\n",
    "  # Can use `adjoing_odeint` here as replacement for `adjoint_odeint`\n",
    "  preds = odeint(model, initial_states_train, t_train, atol=1e-4, rtol=1e-4)\n",
    "  loss = tf.reduce_mean(tf.square(y_real - preds))\n",
    "  return loss\n"
   ]
  },
  {
   "cell_type": "code",
   "execution_count": 43,
   "metadata": {},
   "outputs": [
    {
     "name": "stdout",
     "output_type": "stream",
     "text": [
      "Iter: 1 loss: 2.2161243308908025e-05\n",
      "Iter: 2 loss: 2.2259035473346423e-05\n",
      "Iter: 3 loss: 2.2057746327222177e-05\n",
      "BFGS complete, and parameters updated !\n",
      "Time Elapsed: 1.443917\n"
     ]
    }
   ],
   "source": [
    "start = time.time()\n",
    "model = bfgs_optimizer.minimize(loss_wrapper, model)\n",
    "end = time.time()\n",
    "time_elapsed = end - start\n",
    "print(\"Time Elapsed: %f\" % time_elapsed)"
   ]
  },
  {
   "cell_type": "code",
   "execution_count": 44,
   "metadata": {},
   "outputs": [],
   "source": [
    "t_eval = tf.linspace(0., 10, num=1000)  # Re-evaluate for just 2 seconds of input, but 1000 timesteps\n",
    "\n",
    "with tf.device(device):\n",
    "    model_results = odeint(model, initial_states, t_eval)\n",
    "    real_results = odeint(SIRD(beta, gama, mi), initial_states, t_eval)"
   ]
  },
  {
   "cell_type": "code",
   "execution_count": 45,
   "metadata": {},
   "outputs": [
    {
     "data": {
      "image/png": "[encoded data removed]",
      "text/plain": [
       "<Figure size 460.8x316.8 with 1 Axes>"
      ]
     },
     "metadata": {},
     "output_type": "display_data"
    }
   ],
   "source": [
    "plot_results(t_eval, real_results, labels=['S', 'I', 'R', 'D'])"
   ]
  },
  {
   "cell_type": "code",
   "execution_count": 46,
   "metadata": {},
   "outputs": [
    {
     "data": {
      "image/png": "[encoded data removed]",
      "text/plain": [
       "<Figure size 460.8x316.8 with 1 Axes>"
      ]
     },
     "metadata": {},
     "output_type": "display_data"
    }
   ],
   "source": [
    "plot_results(t_eval, model_results, labels=['S', 'I', 'R', 'D'])"
   ]
  },
  {
   "cell_type": "code",
   "execution_count": 47,
   "metadata": {},
   "outputs": [],
   "source": [
    "real_results_np = real_results.numpy()\n",
    "model_preds_np = model_results.numpy()\n",
    "t_eval_np = t_eval.numpy()"
   ]
  },
  {
   "cell_type": "code",
   "execution_count": 48,
   "metadata": {},
   "outputs": [],
   "source": [
    "from pysindy import SINDy\n",
    "from pysindy import SR3\n",
    "from pysindy.feature_library.polynomial_library import PolynomialLibrary\n",
    "\n",
    "# Import this optimizer for Ridge regression !\n",
    "from tfdiffeq.sindy_utils import STRRidge"
   ]
  },
  {
   "cell_type": "code",
   "execution_count": 49,
   "metadata": {},
   "outputs": [],
   "source": [
    "sindy_optm = SR3(threshold=0.1, nu=0.1, max_iter=500)\n",
    "sindy_library = PolynomialLibrary(degree=20, include_interaction=True,  interaction_only=True)"
   ]
  },
  {
   "cell_type": "code",
   "execution_count": 50,
   "metadata": {},
   "outputs": [
    {
     "name": "stderr",
     "output_type": "stream",
     "text": [
      "C:\\Users\\ferna\\Anaconda3\\envs\\tensorflow\\lib\\site-packages\\pysindy\\optimizers\\sr3.py:269: ConvergenceWarning: SR3._reduce did not converge after 500 iterations.\n",
      "  ConvergenceWarning,\n"
     ]
    },
    {
     "data": {
      "text/plain": [
       "SINDy(differentiation_method=FiniteDifference(),\n",
       "      feature_library=PolynomialLibrary(degree=20, interaction_only=True),\n",
       "      feature_names=['x0', 'x1', 'x2', 'x3'],\n",
       "      optimizer=SR3(max_iter=500, nu=0.1))"
      ]
     },
     "execution_count": 50,
     "metadata": {},
     "output_type": "execute_result"
    }
   ],
   "source": [
    "sindy_model = SINDy(optimizer=sindy_optm, feature_library=sindy_library, discrete_time=False)\n",
    "sindy_model.fit(model_preds_np, t_eval_np)"
   ]
  },
  {
   "cell_type": "code",
   "execution_count": 51,
   "metadata": {},
   "outputs": [
    {
     "name": "stdout",
     "output_type": "stream",
     "text": [
      "x0' = -2.800 x0 x1 + 0.008 x0 x2 x3 + -0.022 x0 x1 x2 x3\n",
      "x1' = -225.307 1 + 225.303 x0 + -84.011 x1 + 386.477 x2 + 38.648 x3 + 124.820 x0 x1 + 687.346 x0 x2 + 68.735 x0 x3 + 224.848 x1 x2 + 22.485 x1 x3 + -1793.270 x2 x3 + 128.865 x0 x1 x2 + 12.887 x0 x1 x3 + 26395.428 x0 x2 x3 + -1589.030 x1 x2 x3 + -1115.965 x0 x1 x2 x3\n",
      "x2' = 0.500 x1 + 0.001 x0 x2 x3\n",
      "x3' = 0.000\n"
     ]
    }
   ],
   "source": [
    "sindy_model.print()"
   ]
  },
  {
   "cell_type": "code",
   "execution_count": 52,
   "metadata": {},
   "outputs": [
    {
     "data": {
      "text/plain": [
       "array([[ 0.00000000e+00,  0.00000000e+00,  0.00000000e+00,\n",
       "         0.00000000e+00,  0.00000000e+00, -2.79994025e+00,\n",
       "         0.00000000e+00,  0.00000000e+00,  0.00000000e+00,\n",
       "         0.00000000e+00,  0.00000000e+00,  0.00000000e+00,\n",
       "         0.00000000e+00,  8.03879002e-03, -4.92228885e-04,\n",
       "        -2.15747889e-02],\n",
       "       [-2.25306892e+02,  2.25303078e+02, -8.40105990e+01,\n",
       "         3.86477405e+02,  3.86477334e+01,  1.24819820e+02,\n",
       "         6.87346062e+02,  6.87346055e+01,  2.24847771e+02,\n",
       "         2.24847756e+01, -1.79326999e+03,  1.28865229e+02,\n",
       "         1.28865226e+01,  2.63954278e+04, -1.58903021e+03,\n",
       "        -1.11596539e+03],\n",
       "       [ 0.00000000e+00,  0.00000000e+00,  4.99995183e-01,\n",
       "         0.00000000e+00,  0.00000000e+00,  0.00000000e+00,\n",
       "         0.00000000e+00,  0.00000000e+00,  0.00000000e+00,\n",
       "         0.00000000e+00,  0.00000000e+00,  0.00000000e+00,\n",
       "         0.00000000e+00,  6.17372844e-04,  0.00000000e+00,\n",
       "         0.00000000e+00],\n",
       "       [ 0.00000000e+00,  0.00000000e+00,  0.00000000e+00,\n",
       "         0.00000000e+00,  0.00000000e+00,  0.00000000e+00,\n",
       "         0.00000000e+00,  0.00000000e+00,  0.00000000e+00,\n",
       "         0.00000000e+00,  0.00000000e+00,  0.00000000e+00,\n",
       "         0.00000000e+00,  0.00000000e+00,  0.00000000e+00,\n",
       "         0.00000000e+00]])"
      ]
     },
     "execution_count": 52,
     "metadata": {},
     "output_type": "execute_result"
    }
   ],
   "source": [
    "sindy_model.coefficients()"
   ]
  },
  {
   "cell_type": "code",
   "execution_count": 53,
   "metadata": {},
   "outputs": [
    {
     "data": {
      "text/plain": [
       "0.471149931208961"
      ]
     },
     "execution_count": 53,
     "metadata": {},
     "output_type": "execute_result"
    }
   ],
   "source": [
    "sindy_model.score(model_preds_np, t_eval_np)"
   ]
  },
  {
   "cell_type": "code",
   "execution_count": null,
   "metadata": {},
   "outputs": [],
   "source": []
  }
 ],
 "metadata": {
  "kernelspec": {
   "display_name": "tensorflow",
   "language": "python",
   "name": "tensorflow"
  },
  "language_info": {
   "codemirror_mode": {
    "name": "ipython",
    "version": 3
   },
   "file_extension": ".py",
   "mimetype": "text/x-python",
   "name": "python",
   "nbconvert_exporter": "python",
   "pygments_lexer": "ipython3",
   "version": "3.6.10"
  }
 },
 "nbformat": 4,
 "nbformat_minor": 4
}
