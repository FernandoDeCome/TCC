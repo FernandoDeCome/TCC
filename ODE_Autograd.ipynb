{
 "cells": [
  {
   "cell_type": "code",
   "execution_count": 23,
   "metadata": {},
   "outputs": [],
   "source": [
    "import autograd.numpy as np\n",
    "from autograd import grad, elementwise_grad\n",
    "import autograd.numpy.random as npr\n",
    "from autograd.misc.optimizers import adam\n",
    "from scipy.integrate import odeint\n",
    "import matplotlib.pyplot as plt\n",
    "import matplotlib.style as style\n",
    "style.use('ggplot')\n",
    "\n",
    "def ode(C,t):\n",
    "    dC_dt = - k * C**2\n",
    "    return dC_dt\n",
    "\n",
    "k = 2\n",
    "C0 = 2\n",
    "t = np.linspace(0,8,400)\n",
    "\n",
    "sol = odeint(ode, C0, t)"
   ]
  },
  {
   "cell_type": "code",
   "execution_count": 24,
   "metadata": {},
   "outputs": [
    {
     "data": {
      "image/png": "[encoded data removed]",
      "text/plain": [
       "<Figure size 432x288 with 1 Axes>"
      ]
     },
     "metadata": {},
     "output_type": "display_data"
    }
   ],
   "source": [
    "plt.plot(t, sol)\n",
    "plt.xlabel('t');\n",
    "plt.ylabel('C');"
   ]
  },
  {
   "cell_type": "code",
   "execution_count": 25,
   "metadata": {},
   "outputs": [
    {
     "name": "stdout",
     "output_type": "stream",
     "text": [
      "Iteration   0 objective [[3.20388548]]\n",
      "Iteration 1000 objective [[0.38424961]]\n",
      "Iteration 2000 objective [[0.21620692]]\n",
      "Iteration 3000 objective [[0.09329333]]\n",
      "Iteration 4000 objective [[0.03886008]]\n",
      "Iteration 5000 objective [[0.01542816]]\n",
      "Iteration 6000 objective [[0.00551295]]\n",
      "Iteration 7000 objective [[0.00240121]]\n",
      "Iteration 8000 objective [[0.001131]]\n",
      "Iteration 9000 objective [[0.00056485]]\n",
      "Iteration 10000 objective [[0.0003192]]\n"
     ]
    }
   ],
   "source": [
    "def init_random_params(scale, layer_sizes, rs=npr.RandomState(0)):\n",
    "    \"\"\"Build a list of (weights, biases) tuples, one for each layer.\"\"\"\n",
    "    return [(rs.randn(insize, outsize) * scale,   # weight matrix\n",
    "             rs.randn(outsize) * scale)           # bias vector\n",
    "            for insize, outsize in zip(layer_sizes[:-1], layer_sizes[1:])]\n",
    "\n",
    "\n",
    "def swish(x):\n",
    "    \"see https://arxiv.org/pdf/1710.05941.pdf\"\n",
    "    return x / (1.0 + np.exp(-x))\n",
    "\n",
    "\n",
    "def Ca(params, inputs):\n",
    "    \"Neural network functions\"\n",
    "    for W, b in params:\n",
    "        outputs = np.dot(inputs, W) + b\n",
    "        inputs = swish(outputs)    \n",
    "    return outputs\n",
    "\n",
    "    \n",
    "# Here is our initial guess of params:\n",
    "params = init_random_params(0.1, layer_sizes=[1, 8, 1])\n",
    "\n",
    "# Derivatives\n",
    "dCadt = elementwise_grad(Ca, 1)\n",
    "\n",
    "k = 2\n",
    "Ca0 = 2.0\n",
    "t = np.linspace(0,8).reshape((-1, 1))\n",
    "\n",
    "# This is the function we seek to minimize\n",
    "def objective(params, step):\n",
    "    # These should all be zero at the solution\n",
    "    # dCadt = -k * Ca(t)\n",
    "    zeq = dCadt(params, t) - (-k * Ca(params, t)**2)\n",
    "    ic = Ca(params, 0) - Ca0\n",
    "    return np.mean(zeq**2) + ic**2\n",
    "\n",
    "def callback(params, step, g):\n",
    "    if step % 1000 == 0:\n",
    "        print(\"Iteration {0:3d} objective {1}\".format(step,\n",
    "                                                      objective(params, step))\n",
    "params = adam(grad(objective), params,\n",
    "              step_size=0.001, num_iters=10001, callback=callback) \n",
    "\n",
    "\n",
    "tfit = np.linspace(0, 8).reshape(-1, 1)\n"
   ]
  },
  {
   "cell_type": "code",
   "execution_count": 30,
   "metadata": {},
   "outputs": [
    {
     "data": {
      "image/png": "[encoded data removed]",
      "text/plain": [
       "<Figure size 432x288 with 1 Axes>"
      ]
     },
     "metadata": {},
     "output_type": "display_data"
    }
   ],
   "source": [
    "plt.plot(tfit, Ca(params, tfit))\n",
    "plt.xlabel('t');\n",
    "plt.ylabel('C');"
   ]
  },
  {
   "cell_type": "code",
   "execution_count": null,
   "metadata": {},
   "outputs": [],
   "source": []
  }
 ],
 "metadata": {
  "kernelspec": {
   "display_name": "tensorflow",
   "language": "python",
   "name": "tensorflow"
  },
  "language_info": {
   "codemirror_mode": {
    "name": "ipython",
    "version": 3
   },
   "file_extension": ".py",
   "mimetype": "text/x-python",
   "name": "python",
   "nbconvert_exporter": "python",
   "pygments_lexer": "ipython3",
   "version": "3.6.10"
  }
 },
 "nbformat": 4,
 "nbformat_minor": 4
}
