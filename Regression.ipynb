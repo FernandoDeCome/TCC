{
 "cells": [
  {
   "cell_type": "code",
   "execution_count": 12,
   "metadata": {},
   "outputs": [],
   "source": [
    "from tensorflow.keras import backend\n",
    "from tensorflow.keras.models import Sequential\n",
    "from tensorflow.keras.layers import Dense\n",
    "from tensorflow.keras import models\n",
    "from sklearn.model_selection import train_test_split\n",
    "import numpy as np\n",
    "import matplotlib.pyplot as plt\n",
    "import time\n",
    "import random\n",
    "\n",
    "import matplotlib.style as style\n",
    "style.use('ggplot')"
   ]
  },
  {
   "cell_type": "code",
   "execution_count": 13,
   "metadata": {},
   "outputs": [],
   "source": [
    "#Data_Unified Labels\n",
    "#Cyc Water, Mill Water , Mill Feed , PSI  , Cyc Pressure , Mill Power , % Solids\n",
    "data = np.loadtxt(\"Dados_Filtrados_Unificado_csv.csv\", delimiter = ',')\n",
    "\n",
    "x_data = data[:,0:6]\n",
    "y_data = data[:,6]"
   ]
  },
  {
   "cell_type": "code",
   "execution_count": 14,
   "metadata": {},
   "outputs": [],
   "source": [
    "(train_data, test_data, \n",
    "     train_targets, test_targets) = train_test_split(x_data, y_data, test_size=.4, random_state=5)"
   ]
  },
  {
   "cell_type": "code",
   "execution_count": 15,
   "metadata": {},
   "outputs": [],
   "source": [
    "mean = train_data.mean(axis=0)\n",
    "train_data -= mean\n",
    "std = train_data.std(axis=0)\n",
    "train_data /= std\n",
    "\n",
    "test_data -= mean\n",
    "test_data /= std"
   ]
  },
  {
   "cell_type": "code",
   "execution_count": 16,
   "metadata": {},
   "outputs": [],
   "source": [
    "def build_model():\n",
    "    #Building the Network:\n",
    "    model = models.Sequential()\n",
    "    \n",
    "    #Inputs and Hidden Layers\n",
    "    model.add(Dense(64, activation='relu',\n",
    "                           input_shape=(train_data.shape[1],))) # Dim = 6\n",
    "    model.add(Dense(64, activation = 'relu'))\n",
    "    \n",
    "    #Output\n",
    "    model.add(Dense(1))\n",
    "    \n",
    "    #Compiling the model\n",
    "    model.compile(loss = \"mean_squared_error\", optimizer = \"Adam\", metrics = ['mean_absolute_error'])\n",
    "    return model"
   ]
  },
  {
   "cell_type": "code",
   "execution_count": 17,
   "metadata": {},
   "outputs": [
    {
     "name": "stdout",
     "output_type": "stream",
     "text": [
      "Processing Fold # 0 ...\n",
      "Processing Fold # 1 ...\n",
      "Processing Fold # 2 ...\n",
      "Processing Fold # 3 ...\n",
      "WARNING:tensorflow:5 out of the last 25 calls to <function Model.make_test_function.<locals>.test_function at 0x000002972A0B8EA0> triggered tf.function retracing. Tracing is expensive and the excessive number of tracings could be due to (1) creating @tf.function repeatedly in a loop, (2) passing tensors with different shapes, (3) passing Python objects instead of tensors. For (1), please define your @tf.function outside of the loop. For (2), @tf.function has experimental_relax_shapes=True option that relaxes argument shapes that can avoid unnecessary retracing. For (3), please refer to https://www.tensorflow.org/guide/function#controlling_retracing and https://www.tensorflow.org/api_docs/python/tf/function for  more details.\n",
      "Time Elapsed: 27.063935041427612 s\n"
     ]
    }
   ],
   "source": [
    "#First fitting with 50 epochs\n",
    "num_epochs = 50\n",
    "\n",
    "#Perfmorming k-fold cross validation\n",
    "k = 4\n",
    "#Keep track on the time required\n",
    "start = time.time()\n",
    "\n",
    "num_val_samples = len(train_data) // k\n",
    "all_scores = []\n",
    "\n",
    "for i in range(k):\n",
    "    print('Processing Fold #', i, '...')\n",
    "    # Prepare the validation data: data from partition # k\n",
    "    val_data = train_data[i * num_val_samples: (i + 1) * num_val_samples]\n",
    "    val_targets = train_targets[i * num_val_samples: (i + 1) * num_val_samples]\n",
    "\n",
    "    # Prepare the training data: data from all other partitions\n",
    "    partial_train_data = np.concatenate(\n",
    "        [train_data[:i * num_val_samples],\n",
    "         train_data[(i + 1) * num_val_samples:]],\n",
    "        axis=0)\n",
    "    partial_train_targets = np.concatenate(\n",
    "        [train_targets[:i * num_val_samples],\n",
    "         train_targets[(i + 1) * num_val_samples:]],\n",
    "        axis=0)\n",
    "\n",
    "    # Build the Keras model (already compiled)\n",
    "    model = build_model()\n",
    "    # Train the model (in silent mode, verbose=0)\n",
    "    model.fit(partial_train_data, partial_train_targets,\n",
    "              epochs=num_epochs, batch_size=1, verbose=0)\n",
    "    # Evaluate the model on the validation data\n",
    "    val_mse, val_mae = model.evaluate(val_data, val_targets, verbose=0)\n",
    "    all_scores.append(val_mae)\n",
    "    \n",
    "end = time.time()\n",
    "print(\"Time Elapsed:\", end - start, \"s\")\n",
    "    "
   ]
  },
  {
   "cell_type": "code",
   "execution_count": 18,
   "metadata": {},
   "outputs": [
    {
     "name": "stdout",
     "output_type": "stream",
     "text": [
      "Mean Absolut Errors: \n",
      "Fold # 0 : 0.013701144605875015\n",
      "Fold # 1 : 0.019678328186273575\n",
      "Fold # 2 : 0.014908055774867535\n",
      "Fold # 3 : 0.007668966427445412\n"
     ]
    }
   ],
   "source": [
    "print(\"Mean Absolut Errors: \")\n",
    "for i in range(k):\n",
    "    print(\"Fold #\",i,\":\", all_scores[i])"
   ]
  },
  {
   "cell_type": "code",
   "execution_count": 19,
   "metadata": {},
   "outputs": [
    {
     "name": "stdout",
     "output_type": "stream",
     "text": [
      "Mean Error: \n"
     ]
    },
    {
     "data": {
      "text/plain": [
       "0.013989123748615384"
      ]
     },
     "execution_count": 19,
     "metadata": {},
     "output_type": "execute_result"
    }
   ],
   "source": [
    "print(\"Mean Error: \")\n",
    "np.mean(all_scores)"
   ]
  },
  {
   "cell_type": "code",
   "execution_count": 20,
   "metadata": {},
   "outputs": [
    {
     "name": "stdout",
     "output_type": "stream",
     "text": [
      "Model: \"sequential_9\"\n",
      "_________________________________________________________________\n",
      "Layer (type)                 Output Shape              Param #   \n",
      "=================================================================\n",
      "dense_27 (Dense)             (None, 64)                448       \n",
      "_________________________________________________________________\n",
      "dense_28 (Dense)             (None, 64)                4160      \n",
      "_________________________________________________________________\n",
      "dense_29 (Dense)             (None, 1)                 65        \n",
      "=================================================================\n",
      "Total params: 4,673\n",
      "Trainable params: 4,673\n",
      "Non-trainable params: 0\n",
      "_________________________________________________________________\n"
     ]
    }
   ],
   "source": [
    "model.summary()"
   ]
  },
  {
   "cell_type": "code",
   "execution_count": 21,
   "metadata": {},
   "outputs": [],
   "source": [
    "#Cleaning memory cached\n",
    "from tensorflow.keras import backend as K\n",
    "K.clear_session()"
   ]
  },
  {
   "cell_type": "code",
   "execution_count": 25,
   "metadata": {},
   "outputs": [
    {
     "name": "stdout",
     "output_type": "stream",
     "text": [
      "processing fold # 0 ...\n",
      "processing fold # 1 ...\n",
      "processing fold # 2 ...\n",
      "processing fold # 3 ...\n",
      "Time Elapsed: 382.5309863090515 s\n"
     ]
    }
   ],
   "source": [
    "#Increasing number of Epochs to 800 for better perfomance\n",
    "num_epochs = 500\n",
    "all_mae_histories = []\n",
    "start = time.time()\n",
    "all_scores_improved =[]\n",
    "\n",
    "for i in range(k):\n",
    "    print('processing fold #', i, '...')\n",
    "    # Prepare the validation data: data from partition # k\n",
    "    val_data = train_data[i * num_val_samples: (i + 1) * num_val_samples]\n",
    "    val_targets = train_targets[i * num_val_samples: (i + 1) * num_val_samples]\n",
    "\n",
    "    # Prepare the training data: data from all other partitions\n",
    "    partial_train_data = np.concatenate(\n",
    "        [train_data[:i * num_val_samples],\n",
    "         train_data[(i + 1) * num_val_samples:]],\n",
    "        axis=0)\n",
    "    partial_train_targets = np.concatenate(\n",
    "        [train_targets[:i * num_val_samples],\n",
    "         train_targets[(i + 1) * num_val_samples:]],\n",
    "        axis=0)\n",
    "\n",
    "    # Build the Keras model\n",
    "    model = build_model()\n",
    "    # Train the model (in silent mode, verbose=0)\n",
    "    history = model.fit(partial_train_data, partial_train_targets,\n",
    "                        validation_data=(val_data, val_targets),\n",
    "                        epochs=num_epochs, batch_size=1, verbose=0)\n",
    "    \n",
    "    mae_history = history.history['val_mean_absolute_error']\n",
    "    all_mae_histories.append(mae_history)\n",
    "    \n",
    "    val_mse, val_mae = model.evaluate(val_data, val_targets, verbose=0)\n",
    "    all_scores_improved.append(val_mae)\n",
    "    \n",
    "end = time.time()\n",
    "print(\"Time Elapsed:\", end - start, \"s\")"
   ]
  },
  {
   "cell_type": "code",
   "execution_count": 26,
   "metadata": {},
   "outputs": [
    {
     "name": "stdout",
     "output_type": "stream",
     "text": [
      "Mean Absolut Errors for 500 epochs: \n",
      "Fold # 0 : 0.008224043063819408\n",
      "Fold # 1 : 0.00928706768900156\n",
      "Fold # 2 : 0.012169682420790195\n",
      "Fold # 3 : 0.011618413962423801\n"
     ]
    }
   ],
   "source": [
    "print(\"Mean Absolut Errors for 500 epochs: \")\n",
    "for i in range(k):\n",
    "    print(\"Fold #\",i,\":\", all_scores_improved[i])"
   ]
  },
  {
   "cell_type": "code",
   "execution_count": 28,
   "metadata": {},
   "outputs": [
    {
     "name": "stdout",
     "output_type": "stream",
     "text": [
      "Mean Error: \n"
     ]
    },
    {
     "data": {
      "text/plain": [
       "0.010324801784008741"
      ]
     },
     "execution_count": 28,
     "metadata": {},
     "output_type": "execute_result"
    }
   ],
   "source": [
    "print(\"Mean Error: \")\n",
    "np.mean(all_scores_improved)"
   ]
  },
  {
   "cell_type": "code",
   "execution_count": 29,
   "metadata": {},
   "outputs": [
    {
     "data": {
      "image/png": "[encoded data removed]",
      "text/plain": [
       "<Figure size 432x288 with 1 Axes>"
      ]
     },
     "metadata": {},
     "output_type": "display_data"
    }
   ],
   "source": [
    "#Plotting the average mean absolute error\n",
    "average_mae_history = [\n",
    "    np.mean([x[i] for x in all_mae_histories]) for i in range(num_epochs)]\n",
    "\n",
    "plt.plot(range(1, len(average_mae_history) + 1), average_mae_history)\n",
    "plt.xlabel('Epochs')\n",
    "plt.ylabel('Validation MAE')\n",
    "plt.show()"
   ]
  },
  {
   "cell_type": "code",
   "execution_count": 30,
   "metadata": {},
   "outputs": [
    {
     "data": {
      "image/png": "[encoded data removed]",
      "text/plain": [
       "<Figure size 432x288 with 1 Axes>"
      ]
     },
     "metadata": {},
     "output_type": "display_data"
    }
   ],
   "source": [
    "#Smoothing the curve for better visualization\n",
    "#and using exponential moving averages instead of points\n",
    "def smooth_curve(points, factor=0.95):\n",
    "  smoothed_points = []\n",
    "  for point in points:\n",
    "    if smoothed_points:\n",
    "      previous = smoothed_points[-1]\n",
    "      smoothed_points.append(previous * factor + point * (1 - factor))\n",
    "    else:\n",
    "      smoothed_points.append(point)\n",
    "  return smoothed_points\n",
    "\n",
    "smooth_mae_history = smooth_curve(average_mae_history)\n",
    "\n",
    "plt.plot(range(1, len(smooth_mae_history) + 1), smooth_mae_history)\n",
    "plt.xlabel('Epochs')\n",
    "plt.ylabel('Validation MAE')\n",
    "plt.show()"
   ]
  },
  {
   "cell_type": "code",
   "execution_count": 31,
   "metadata": {},
   "outputs": [
    {
     "data": {
      "image/png": "[encoded data removed]",
      "text/plain": [
       "<Figure size 432x288 with 4 Axes>"
      ]
     },
     "metadata": {},
     "output_type": "display_data"
    },
    {
     "name": "stdout",
     "output_type": "stream",
     "text": [
      "Time Elapsed: 160.13765788078308 s\n"
     ]
    }
   ],
   "source": [
    "from matplotlib import pyplot\n",
    "start = time.time()\n",
    "#Comparing different Batch Sizes\n",
    "#Create learning curves for different batch sizes\n",
    "batch_sizes = [1, 2, 4, 8]\n",
    "for i in range(len(batch_sizes)):\n",
    "    #Determine the plot number\n",
    "    plot_no = 420 + (i+1)\n",
    "    pyplot.subplot(plot_no)\n",
    "    n_batch = batch_sizes[i]\n",
    "    #Fit model and plot learning curves for a batch size\n",
    "    history = model.fit(train_data, train_targets,\n",
    "                        validation_data=(test_data, test_targets),\n",
    "                        epochs=200, batch_size=batch_sizes[i], verbose=0)\n",
    "    pyplot.plot(history.history['val_mean_absolute_error'], label='train')\n",
    "    pyplot.plot(history.history['val_mean_absolute_error'], label='test')\n",
    "    pyplot.title('batch='+str(n_batch), pad=-40)\n",
    "#Show learning curves\n",
    "pyplot.show()\n",
    "end = time.time()\n",
    "print(\"Time Elapsed:\", end - start, \"s\")"
   ]
  },
  {
   "cell_type": "code",
   "execution_count": 32,
   "metadata": {},
   "outputs": [
    {
     "name": "stdout",
     "output_type": "stream",
     "text": [
      "6/6 [==============================] - 0s 1ms/step - loss: 2.5580e-04 - mean_absolute_error: 0.0117\n",
      "Time elapsed:  25.563894033432007 s\n"
     ]
    }
   ],
   "source": [
    "start = time.time()\n",
    "#Creating a final model after tuning to test performance\n",
    "model_final = build_model()\n",
    "# Train it on the entirety of the data.\n",
    "model_final.fit(train_data, train_targets,\n",
    "          epochs=150, batch_size=1, verbose=0)\n",
    "test_mse_score, test_mae_score = model.evaluate(test_data, test_targets)\n",
    "end = time.time()\n",
    "print(\"Time elapsed: \", end-start,\"s\")"
   ]
  },
  {
   "cell_type": "code",
   "execution_count": 33,
   "metadata": {},
   "outputs": [
    {
     "data": {
      "text/plain": [
       "0.0117496894672513"
      ]
     },
     "execution_count": 33,
     "metadata": {},
     "output_type": "execute_result"
    }
   ],
   "source": [
    "test_mae_score"
   ]
  },
  {
   "cell_type": "code",
   "execution_count": 34,
   "metadata": {},
   "outputs": [],
   "source": [
    "def normaliza(x_new):\n",
    "    x_new[0][0] -= 221.3929\n",
    "    x_new[0][1] -= 16.9675\n",
    "    x_new[0][2] -= 193.2343\n",
    "    x_new[0][3] -= 63.488\n",
    "    x_new[0][4] -= 0.4840\n",
    "    x_new[0][5] -= 3192.9\n",
    "\n",
    "    x_new[0][0] /= 12.19024\n",
    "    x_new[0][1] /= 2.048039\n",
    "    x_new[0][2] /= 14.6197\n",
    "    x_new[0][3] /= 3.098351\n",
    "    x_new[0][4] /= 0.07179886\n",
    "    x_new[0][5] /= 146.282\n",
    "    \n",
    "    return x_new"
   ]
  },
  {
   "cell_type": "code",
   "execution_count": 35,
   "metadata": {},
   "outputs": [
    {
     "name": "stdout",
     "output_type": "stream",
     "text": [
      "X=[0.70606485 1.48068469 0.46277967 0.48800152 0.91923465 0.7321475 ]\n",
      "Y=[0.7914229] \n",
      "\n",
      "X=[ 0.77126455  1.02795894  0.4331621  -0.48293431 -0.12535018 -0.65812062]\n",
      "Y=[0.7922757] \n",
      "\n",
      "X=[-0.10699543 -0.78934044 -0.82024255  0.42322513 -1.01115812 -0.81096717]\n",
      "Y=[0.78800845] \n",
      "\n",
      "X=[-17.36179928  -8.15511814 -13.20330787  -0.3459905   -6.6449523\n",
      "  -4.68714879]\n",
      "Y=[0.85041475] \n",
      "\n"
     ]
    }
   ],
   "source": [
    "#Making predictions\n",
    "#[Cyc Water, Mill Water , Mill Feed , PSI  , Cyc Pressure , Mill Power] -> % Solids\n",
    "\n",
    "x_test = []\n",
    "y_test = []\n",
    "\n",
    "x_test.append(np.array([[230, 20, 200, 65, 0.55, 3300]]))\n",
    "x_test.append(np.array([[230.7948,19.0728,199.5670,61.9917,0.4750,3096.6288]]))\n",
    "x_test.append(np.array([[220.0886,15.3509,181.2426,64.7993,0.4114,3074.2701]]))\n",
    "x_test.append(np.array([[9.7484,0.2655,0.2059,62.4160,0.0069,2507.2545]]))\n",
    "\n",
    "for i in range(0,4):\n",
    "    \n",
    "    y_test.append(model.predict(normaliza(x_test[i])))\n",
    "    print(\"X=%s\\nY=%s \\n\" % (x_test[i][0], y_test[i][0]))\n"
   ]
  },
  {
   "cell_type": "code",
   "execution_count": 29,
   "metadata": {},
   "outputs": [
    {
     "name": "stdout",
     "output_type": "stream",
     "text": [
      "0.009976537433091884\n"
     ]
    }
   ],
   "source": [
    "print(y_data.std())"
   ]
  }
 ],
 "metadata": {
  "kernelspec": {
   "display_name": "tensorflow",
   "language": "python",
   "name": "tensorflow"
  },
  "language_info": {
   "codemirror_mode": {
    "name": "ipython",
    "version": 3
   },
   "file_extension": ".py",
   "mimetype": "text/x-python",
   "name": "python",
   "nbconvert_exporter": "python",
   "pygments_lexer": "ipython3",
   "version": "3.6.10"
  }
 },
 "nbformat": 4,
 "nbformat_minor": 4
}
