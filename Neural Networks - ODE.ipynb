{
 "cells": [
  {
   "cell_type": "code",
   "execution_count": 1,
   "metadata": {},
   "outputs": [],
   "source": [
    "import autograd.numpy as np\n",
    "from autograd import grad \n",
    "import autograd.numpy.random as npr\n",
    "\n",
    "from matplotlib import pyplot as plt\n",
    "%matplotlib inline\n",
    "import matplotlib.style as style\n",
    "style.use('ggplot')\n",
    "\n",
    "import time"
   ]
  },
  {
   "cell_type": "code",
   "execution_count": 2,
   "metadata": {},
   "outputs": [],
   "source": [
    "nx = 10\n",
    "dx = 1. / nx"
   ]
  },
  {
   "cell_type": "code",
   "execution_count": 3,
   "metadata": {},
   "outputs": [],
   "source": [
    "def f(x, psy, dpsy):\n",
    "    '''\n",
    "        d²(psy)/dx² = f(x, dpsy/dx, psy)\n",
    "        This is the f() function on the right\n",
    "    '''\n",
    "    return -1./5. * np.exp(-x/5.) * np.cos(x) - 1./5. * dpsy - psy\n",
    "    \n",
    "def psy_analytic(x):\n",
    "    '''\n",
    "        Analytical solution of current problem\n",
    "    '''\n",
    "    return np.exp(-x/5.) * np.sin(x)"
   ]
  },
  {
   "cell_type": "code",
   "execution_count": 4,
   "metadata": {},
   "outputs": [],
   "source": [
    "def sigmoid(x):\n",
    "    return 1. / (1. + np.exp(-x))\n",
    "\n",
    "def neural_network(W, x):\n",
    "    a1 = sigmoid(np.dot(x, W[0]))\n",
    "    return np.dot(a1, W[1])\n",
    "\n",
    "def neural_network_x(x):\n",
    "    a1 = sigmoid(np.dot(x, W[0]))\n",
    "    return np.dot(a1, W[1])\n",
    "\n",
    "def psy_trial(xi, net_out):\n",
    "    return xi + xi**2 * net_out\n",
    "\n",
    "psy_grad = grad(psy_trial)\n",
    "\n",
    "psy_grad2 = grad(psy_grad)\n",
    "\n",
    "def loss_function(W, x):\n",
    "    loss_sum = 0.\n",
    "    \n",
    "    for xi in x:\n",
    "        net_out = neural_network(W, xi)[0][0]\n",
    "\n",
    "        #net_out_d = grad(neural_network_x)(xi)\n",
    "        #net_out_dd = grad(grad(neural_network_x))(xi)\n",
    "        \n",
    "        psy_t = psy_trial(xi, net_out)\n",
    "        \n",
    "        gradient_of_trial = psy_grad(xi, net_out)\n",
    "        second_gradient_of_trial = psy_grad2(xi, net_out)\n",
    "        \n",
    "        func = f(xi, psy_t, gradient_of_trial) # right part function\n",
    "        \n",
    "        err_sqr = (second_gradient_of_trial - func)**2\n",
    "        loss_sum += err_sqr\n",
    "        \n",
    "    return loss_sum"
   ]
  },
  {
   "cell_type": "code",
   "execution_count": 24,
   "metadata": {},
   "outputs": [],
   "source": [
    "np.random.seed(50)\n",
    "W = [np.random.rand(1,10), np.random.rand(10, 1)]\n",
    "lmb = 0.001"
   ]
  },
  {
   "cell_type": "code",
   "execution_count": 25,
   "metadata": {},
   "outputs": [],
   "source": [
    "x_space = np.linspace(0, 2, nx)    \n",
    "y_space = psy_analytic(x_space)"
   ]
  },
  {
   "cell_type": "code",
   "execution_count": 26,
   "metadata": {},
   "outputs": [
    {
     "name": "stdout",
     "output_type": "stream",
     "text": [
      "time elapsed: 3.6198830604553223 s\n"
     ]
    }
   ],
   "source": [
    "start = time.time()\n",
    "\n",
    "for i in range(200):\n",
    "    loss_grad =  grad(loss_function)(W, x_space)\n",
    "\n",
    "    W[0] = W[0] - lmb * loss_grad[0]\n",
    "    W[1] = W[1] - lmb * loss_grad[1]\n",
    "        \n",
    "        \n",
    "end = time.time()\n",
    "print(\"time elapsed:\", end-start, 's')"
   ]
  },
  {
   "cell_type": "code",
   "execution_count": 27,
   "metadata": {},
   "outputs": [
    {
     "name": "stdout",
     "output_type": "stream",
     "text": [
      "Erro: 0.1797052770847777\n"
     ]
    }
   ],
   "source": [
    "print (\"Erro:\",(loss_function(W, x_space)))\n",
    "result = [psy_trial(xi, neural_network(W, xi)[0][0]) for xi in x_space] "
   ]
  },
  {
   "cell_type": "code",
   "execution_count": 28,
   "metadata": {},
   "outputs": [
    {
     "data": {
      "image/png": "[encoded data removed]",
      "text/plain": [
       "<Figure size 432x288 with 1 Axes>"
      ]
     },
     "metadata": {
      "needs_background": "light"
     },
     "output_type": "display_data"
    }
   ],
   "source": [
    "plt.figure()\n",
    "plt.xlabel('x')\n",
    "plt.ylabel('y')\n",
    "plt.plot(x_space, y_space) \n",
    "plt.plot(x_space, result)\n",
    "plt.legend([\"Analytic\", \"Neural Network\"])\n",
    "plt.show()"
   ]
  },
  {
   "cell_type": "code",
   "execution_count": null,
   "metadata": {},
   "outputs": [],
   "source": []
  }
 ],
 "metadata": {
  "kernelspec": {
   "display_name": "tensorflow",
   "language": "python",
   "name": "tensorflow"
  },
  "language_info": {
   "codemirror_mode": {
    "name": "ipython",
    "version": 3
   },
   "file_extension": ".py",
   "mimetype": "text/x-python",
   "name": "python",
   "nbconvert_exporter": "python",
   "pygments_lexer": "ipython3",
   "version": "3.6.10"
  }
 },
 "nbformat": 4,
 "nbformat_minor": 4
}
